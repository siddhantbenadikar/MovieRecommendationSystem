{
 "cells": [
  {
   "cell_type": "code",
   "execution_count": 2,
   "metadata": {},
   "outputs": [
    {
     "name": "stdout",
     "output_type": "stream",
     "text": [
      "Evaluating RMSE, MAE of algorithm SVD on 5 split(s).\n",
      "\n",
      "                  Fold 1  Fold 2  Fold 3  Fold 4  Fold 5  Mean    Std     \n",
      "RMSE (testset)    0.8679  0.8708  0.8719  0.8732  0.8673  0.8702  0.0023  \n",
      "MAE (testset)     0.6673  0.6661  0.6685  0.6727  0.6669  0.6683  0.0023  \n",
      "Fit time          1.74    1.69    1.80    1.60    1.63    1.69    0.07    \n",
      "Test time         0.20    0.14    0.14    0.12    0.22    0.16    0.04    \n",
      "Evaluating RMSE, MAE of algorithm NMF on 5 split(s).\n",
      "\n",
      "                  Fold 1  Fold 2  Fold 3  Fold 4  Fold 5  Mean    Std     \n",
      "RMSE (testset)    1.4773  1.4671  1.4658  1.4807  1.4725  1.4727  0.0057  \n",
      "MAE (testset)     1.1910  1.1793  1.1805  1.1859  1.1874  1.1848  0.0043  \n",
      "Fit time          7.64    7.58    7.65    7.68    7.07    7.52    0.23    \n",
      "Test time         0.17    0.11    0.14    0.12    0.11    0.13    0.02    \n",
      "Evaluating RMSE, MAE of algorithm SVD on 5 split(s).\n",
      "\n",
      "                  Fold 1  Fold 2  Fold 3  Fold 4  Fold 5  Mean    Std     \n",
      "RMSE (testset)    0.8653  0.8728  0.8702  0.8771  0.8702  0.8711  0.0038  \n",
      "MAE (testset)     0.6638  0.6712  0.6710  0.6740  0.6715  0.6703  0.0034  \n",
      "Fit time          1.54    1.62    1.63    1.63    1.63    1.61    0.04    \n",
      "Test time         0.17    0.17    0.13    0.13    0.13    0.15    0.02    \n",
      "Evaluating RMSE, MAE of algorithm NMF on 5 split(s).\n",
      "\n",
      "                  Fold 1  Fold 2  Fold 3  Fold 4  Fold 5  Mean    Std     \n",
      "RMSE (testset)    0.8971  0.8901  0.9003  0.9022  0.8985  0.8976  0.0042  \n",
      "MAE (testset)     0.6902  0.6861  0.6926  0.6900  0.6911  0.6900  0.0022  \n",
      "Fit time          7.58    7.55    7.49    7.41    7.41    7.49    0.07    \n",
      "Test time         0.12    0.18    0.16    0.16    0.11    0.15    0.03    \n",
      "Evaluating RMSE, MAE of algorithm SVD on 5 split(s).\n",
      "\n",
      "                  Fold 1  Fold 2  Fold 3  Fold 4  Fold 5  Mean    Std     \n",
      "RMSE (testset)    0.9003  0.9169  0.9078  0.9072  0.9134  0.9091  0.0057  \n",
      "MAE (testset)     0.7018  0.7126  0.7077  0.7063  0.7140  0.7085  0.0044  \n",
      "Fit time          1.77    1.78    1.76    1.62    1.69    1.72    0.06    \n",
      "Test time         0.14    0.17    0.20    0.20    0.14    0.17    0.03    \n",
      "Evaluating RMSE, MAE of algorithm NMF on 5 split(s).\n",
      "\n",
      "                  Fold 1  Fold 2  Fold 3  Fold 4  Fold 5  Mean    Std     \n",
      "RMSE (testset)    1.3168  1.3074  1.3193  1.3056  1.3142  1.3127  0.0053  \n",
      "MAE (testset)     1.1385  1.1311  1.1419  1.1288  1.1351  1.1351  0.0048  \n",
      "Fit time          7.52    7.60    7.66    8.05    7.30    7.63    0.25    \n",
      "Test time         0.12    0.12    0.12    0.16    0.18    0.14    0.03    \n",
      "Evaluating RMSE, MAE of algorithm SVD on 5 split(s).\n",
      "\n",
      "                  Fold 1  Fold 2  Fold 3  Fold 4  Fold 5  Mean    Std     \n",
      "RMSE (testset)    1.0048  1.0114  1.0044  1.0141  1.0055  1.0080  0.0040  \n",
      "MAE (testset)     0.7985  0.8023  0.8003  0.8088  0.7983  0.8017  0.0039  \n",
      "Fit time          1.62    1.70    1.69    1.69    1.68    1.68    0.03    \n",
      "Test time         0.18    0.13    0.13    0.20    0.20    0.17    0.03    \n",
      "Evaluating RMSE, MAE of algorithm NMF on 5 split(s).\n",
      "\n",
      "                  Fold 1  Fold 2  Fold 3  Fold 4  Fold 5  Mean    Std     \n",
      "RMSE (testset)    2.6743  2.6788  2.6766  2.6597  2.6743  2.6727  0.0067  \n",
      "MAE (testset)     2.4610  2.4654  2.4634  2.4462  2.4606  2.4593  0.0068  \n",
      "Fit time          7.29    8.21    8.59    7.42    7.75    7.85    0.49    \n",
      "Test time         0.12    0.13    0.12    0.18    0.19    0.15    0.03    \n"
     ]
    },
    {
     "data": {
      "image/png": "[encoded data removed]",
      "text/plain": [
       "<Figure size 432x288 with 1 Axes>"
      ]
     },
     "metadata": {
      "needs_background": "light"
     },
     "output_type": "display_data"
    }
   ],
   "source": [
    "from surprise import KNNBasic, KNNWithMeans, KNNBaseline\n",
    "from surprise import Dataset\n",
    "from surprise import Reader\n",
    "from surprise import NMF\n",
    "import pandas as pd\n",
    "\n",
    "from surprise import SVD\n",
    "from surprise import evaluate, print_perf\n",
    "from surprise.model_selection import cross_validate\n",
    "import numpy as np\n",
    "import matplotlib.pyplot as plt\n",
    "\n",
    "#------------------------load data from a file\n",
    "file_path = \"data/ratings.csv\"\n",
    "ratings = pd.read_csv(file_path, sep=\",\")\n",
    "reader = Reader()\n",
    "ratings.drop(\"timestamp\", axis=1, inplace=True)\n",
    "data = Dataset.load_from_df(ratings, reader=reader)\n",
    "\n",
    "#########---------------SVD\n",
    "# print('')\n",
    "# print('---------------SVD result-------------')\n",
    "\n",
    "nmf_rmse = []\n",
    "svd_rmse = []\n",
    "# ks = [10, 20, 50, 100, 200]\n",
    "i = 0\n",
    "regs = [0.01, 0.1, 1, 10]\n",
    "\n",
    "while i < 4:\n",
    "    algo = SVD(n_factors=10, reg_all=regs[i], lr_all=0.005)\n",
    "    perf = cross_validate(algo, data, measures=['RMSE', 'MAE'], cv=5, verbose=True)\n",
    "    rmse = np.sum(perf['test_rmse'])/perf['test_rmse'].size\n",
    "    svd_rmse.append(rmse)\n",
    "    \n",
    "    algo = NMF(n_factors=25, reg_pu=regs[i], reg_qi=regs[i])\n",
    "    perf = cross_validate(algo, data, measures=['RMSE', 'MAE'], cv=5, verbose=True)\n",
    "    rmse = np.sum(perf['test_rmse'])/perf['test_rmse'].size\n",
    "    nmf_rmse.append(rmse)\n",
    "    i += 1\n",
    "\n"
   ]
  },
  {
   "cell_type": "code",
   "execution_count": 3,
   "metadata": {},
   "outputs": [
    {
     "data": {
      "image/png": "[encoded data removed]",
      "text/plain": [
       "<Figure size 432x288 with 1 Axes>"
      ]
     },
     "metadata": {
      "needs_background": "light"
     },
     "output_type": "display_data"
    }
   ],
   "source": [
    "plt.plot(regs, nmf_rmse, 'r', label='NMF')\n",
    "plt.plot(regs, svd_rmse, 'b', label='SVD')\n",
    "plt.xlabel(\"Regularization Parameters\")\n",
    "plt.ylabel(\"RMSE\")\n",
    "plt.legend(loc='upper left')\n",
    "plt.title(\"Matrix factorization methods varying on \")\n",
    "plt.show()"
   ]
  },
  {
   "cell_type": "code",
   "execution_count": null,
   "metadata": {},
   "outputs": [],
   "source": []
  }
 ],
 "metadata": {
  "kernelspec": {
   "display_name": "Python 3",
   "language": "python",
   "name": "python3"
  },
  "language_info": {
   "codemirror_mode": {
    "name": "ipython",
    "version": 3
   },
   "file_extension": ".py",
   "mimetype": "text/x-python",
   "name": "python",
   "nbconvert_exporter": "python",
   "pygments_lexer": "ipython3",
   "version": "3.6.6"
  }
 },
 "nbformat": 4,
 "nbformat_minor": 1
}
