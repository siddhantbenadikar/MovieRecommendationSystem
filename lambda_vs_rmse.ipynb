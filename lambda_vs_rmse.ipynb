{
 "cells": [
  {
   "cell_type": "code",
   "execution_count": 1,
   "metadata": {},
   "outputs": [
    {
     "name": "stdout",
     "output_type": "stream",
     "text": [
      "Evaluating RMSE, MAE of algorithm SVD on 5 split(s).\n",
      "\n",
      "                  Fold 1  Fold 2  Fold 3  Fold 4  Fold 5  Mean    Std     \n",
      "RMSE (testset)    0.8683  0.8764  0.8738  0.8694  0.8674  0.8711  0.0034  \n",
      "MAE (testset)     0.6662  0.6738  0.6673  0.6722  0.6676  0.6694  0.0030  \n",
      "Fit time          2.04    2.15    1.74    1.84    1.78    1.91    0.16    \n",
      "Test time         0.18    0.13    0.15    0.13    0.14    0.14    0.02    \n",
      "Evaluating RMSE, MAE of algorithm NMF on 5 split(s).\n",
      "\n",
      "                  Fold 1  Fold 2  Fold 3  Fold 4  Fold 5  Mean    Std     \n",
      "RMSE (testset)    1.4605  1.4806  1.4702  1.4765  1.4611  1.4698  0.0081  \n",
      "MAE (testset)     1.1705  1.1901  1.1846  1.1857  1.1719  1.1806  0.0079  \n",
      "Fit time          7.74    7.50    8.12    7.50    7.33    7.64    0.27    \n",
      "Test time         0.11    0.11    0.17    0.16    0.15    0.14    0.02    \n",
      "Evaluating RMSE, MAE of algorithm SVD on 5 split(s).\n",
      "\n",
      "                  Fold 1  Fold 2  Fold 3  Fold 4  Fold 5  Mean    Std     \n",
      "RMSE (testset)    0.8723  0.8682  0.8736  0.8730  0.8621  0.8698  0.0043  \n",
      "MAE (testset)     0.6688  0.6667  0.6717  0.6729  0.6615  0.6683  0.0041  \n",
      "Fit time          1.63    1.78    1.62    1.79    1.77    1.72    0.08    \n",
      "Test time         0.13    0.13    0.23    0.19    0.19    0.17    0.04    \n",
      "Evaluating RMSE, MAE of algorithm NMF on 5 split(s).\n",
      "\n",
      "                  Fold 1  Fold 2  Fold 3  Fold 4  Fold 5  Mean    Std     \n",
      "RMSE (testset)    1.2589  1.2960  1.2609  1.2822  1.2835  1.2763  0.0142  \n",
      "MAE (testset)     0.9850  1.0167  0.9857  1.0036  1.0040  0.9990  0.0121  \n",
      "Fit time          8.26    8.41    10.47   8.49    8.61    8.85    0.82    \n",
      "Test time         0.16    0.18    0.12    0.13    0.13    0.15    0.02    \n",
      "Evaluating RMSE, MAE of algorithm SVD on 5 split(s).\n",
      "\n",
      "                  Fold 1  Fold 2  Fold 3  Fold 4  Fold 5  Mean    Std     \n",
      "RMSE (testset)    0.8710  0.8648  0.8786  0.8740  0.8615  0.8700  0.0062  \n",
      "MAE (testset)     0.6704  0.6652  0.6738  0.6724  0.6647  0.6693  0.0037  \n",
      "Fit time          1.78    1.71    1.82    3.22    2.67    2.24    0.60    \n",
      "Test time         0.19    0.20    0.20    0.21    0.14    0.19    0.03    \n",
      "Evaluating RMSE, MAE of algorithm NMF on 5 split(s).\n",
      "\n",
      "                  Fold 1  Fold 2  Fold 3  Fold 4  Fold 5  Mean    Std     \n",
      "RMSE (testset)    0.9672  0.9575  0.9566  0.9505  0.9606  0.9585  0.0055  \n",
      "MAE (testset)     0.7325  0.7232  0.7225  0.7177  0.7249  0.7242  0.0048  \n",
      "Fit time          8.74    7.81    9.03    9.20    8.81    8.72    0.48    \n",
      "Test time         0.18    0.16    0.25    0.17    0.11    0.17    0.05    \n",
      "Evaluating RMSE, MAE of algorithm SVD on 5 split(s).\n",
      "\n",
      "                  Fold 1  Fold 2  Fold 3  Fold 4  Fold 5  Mean    Std     \n",
      "RMSE (testset)    0.8745  0.8763  0.8708  0.8647  0.8701  0.8713  0.0040  \n",
      "MAE (testset)     0.6731  0.6751  0.6684  0.6620  0.6713  0.6700  0.0046  \n",
      "Fit time          1.79    1.77    1.85    1.95    1.81    1.84    0.06    \n",
      "Test time         0.19    0.19    0.23    0.16    0.18    0.19    0.02    \n",
      "Evaluating RMSE, MAE of algorithm NMF on 5 split(s).\n",
      "\n",
      "                  Fold 1  Fold 2  Fold 3  Fold 4  Fold 5  Mean    Std     \n",
      "RMSE (testset)    0.9008  0.8970  0.9013  0.9006  0.8913  0.8982  0.0038  \n",
      "MAE (testset)     0.6928  0.6872  0.6925  0.6923  0.6881  0.6906  0.0024  \n",
      "Fit time          8.75    8.82    8.66    7.42    7.35    8.20    0.67    \n",
      "Test time         0.11    0.17    0.16    0.15    0.16    0.15    0.02    \n"
     ]
    }
   ],
   "source": [
    "from surprise import KNNBasic, KNNWithMeans, KNNBaseline\n",
    "from surprise import Dataset\n",
    "from surprise import Reader\n",
    "from surprise import NMF\n",
    "import pandas as pd\n",
    "\n",
    "from surprise import SVD\n",
    "from surprise import evaluate, print_perf\n",
    "from surprise.model_selection import cross_validate\n",
    "import numpy as np\n",
    "import matplotlib.pyplot as plt\n",
    "\n",
    "#------------------------load data from a file\n",
    "file_path = \"data/ratings.csv\"\n",
    "ratings = pd.read_csv(file_path, sep=\",\")\n",
    "reader = Reader()\n",
    "ratings.drop(\"timestamp\", axis=1, inplace=True)\n",
    "data = Dataset.load_from_df(ratings, reader=reader)\n",
    "\n",
    "#########---------------SVD\n",
    "# print('')\n",
    "# print('---------------SVD result-------------')\n",
    "\n",
    "nmf_rmse = []\n",
    "svd_rmse = []\n",
    "# ks = [10, 20, 50, 100, 200]\n",
    "i = 0\n",
    "regs = [0.01, 0.02, 0.05, 0.1]\n",
    "\n",
    "while i < 4:\n",
    "    algo = SVD(n_factors=10, reg_all=regs[i], lr_all=0.005)\n",
    "    perf = cross_validate(algo, data, measures=['RMSE', 'MAE'], cv=5, verbose=True)\n",
    "    rmse = np.sum(perf['test_rmse'])/perf['test_rmse'].size\n",
    "    svd_rmse.append(rmse)\n",
    "    \n",
    "    algo = NMF(n_factors=25, reg_pu=regs[i], reg_qi=regs[i])\n",
    "    perf = cross_validate(algo, data, measures=['RMSE', 'MAE'], cv=5, verbose=True)\n",
    "    rmse = np.sum(perf['test_rmse'])/perf['test_rmse'].size\n",
    "    nmf_rmse.append(rmse)\n",
    "    i += 1\n",
    "\n"
   ]
  },
  {
   "cell_type": "code",
   "execution_count": 2,
   "metadata": {},
   "outputs": [
    {
     "data": {
      "image/png": "[encoded data removed]",
      "text/plain": [
       "<Figure size 432x288 with 1 Axes>"
      ]
     },
     "metadata": {
      "needs_background": "light"
     },
     "output_type": "display_data"
    }
   ],
   "source": [
    "plt.plot(regs, nmf_rmse, 'r', label='NMF')\n",
    "plt.plot(regs, svd_rmse, 'b', label='SVD')\n",
    "plt.xlabel(\"Regularization Parameters\")\n",
    "plt.ylabel(\"RMSE\")\n",
    "plt.legend(loc='upper left')\n",
    "plt.title(\"Matrix factorization methods varying on \")\n",
    "plt.show()"
   ]
  },
  {
   "cell_type": "code",
   "execution_count": null,
   "metadata": {},
   "outputs": [],
   "source": []
  }
 ],
 "metadata": {
  "kernelspec": {
   "display_name": "Python 3",
   "language": "python",
   "name": "python3"
  },
  "language_info": {
   "codemirror_mode": {
    "name": "ipython",
    "version": 3
   },
   "file_extension": ".py",
   "mimetype": "text/x-python",
   "name": "python",
   "nbconvert_exporter": "python",
   "pygments_lexer": "ipython3",
   "version": "3.6.6"
  }
 },
 "nbformat": 4,
 "nbformat_minor": 1
}
